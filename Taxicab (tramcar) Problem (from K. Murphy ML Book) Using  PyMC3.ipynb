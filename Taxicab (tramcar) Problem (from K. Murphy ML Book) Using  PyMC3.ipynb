{
 "cells": [
  {
   "cell_type": "markdown",
   "metadata": {},
   "source": [
    "# Taxicab (tramcar) Problem --- Using PyMC3\n",
    "\n",
    "(From Kevin Murphy: Machine Learning: A Probabalistic Perspective; Chapter 3: Question: 3.10) \n",
    "\n",
    " By Perry Grossman\n",
    "\n",
    "Using example code from:"
   ]
  },
  {
   "cell_type": "markdown",
   "metadata": {},
   "source": [
    "### Solving the Bayesian German Tank problem with PyMC and PyStan19 Dec 2015"
   ]
  },
  {
   "cell_type": "markdown",
   "metadata": {},
   "source": [
    "Source: http://isaacslavitt.com/2015/12/19/german-tank-problem-with-pymc-and-pystan/"
   ]
  },
  {
   "cell_type": "markdown",
   "metadata": {},
   "source": [
    "PG: Using Anaconda Python 3.5 on Ubuntu 16.04"
   ]
  },
  {
   "cell_type": "markdown",
   "metadata": {},
   "source": [
    "Solving it:   \n",
    "The Wikipedia article explains both the frequentist and Bayesian approaches, and the example in the Sampyl docs does a good job of explaining the setup for the Bayesian version. Here's the gist: we want to know the posterior probability of the number of tanks \n",
    "N\n",
    ", given data \n",
    "D\n",
    " on which tank serial numbers have been observed so far:\n",
    "\n",
    "P\n",
    "(\n",
    "N\n",
    "∣\n",
    "D\n",
    ")\n",
    "∝\n",
    "P\n",
    "(\n",
    "D\n",
    "∣\n",
    "N\n",
    ")\n",
    "P\n",
    "(\n",
    "N\n",
    ")  \n",
    "The right-hand side breaks down into two parts. The likelihood of observing all the serial numbers we saw is the product of the individual probabilities \n",
    "D\n",
    "i\n",
    " given the actual number of tanks in existence \n",
    "N\n",
    ":\n",
    "\n",
    "P\n",
    "(\n",
    "D\n",
    "∣\n",
    "N\n",
    ")\n",
    "=\n",
    "∏\n",
    "i\n",
    " \n",
    "P\n",
    "(\n",
    "D\n",
    "i\n",
    "∣\n",
    "N\n",
    ")\n",
    "P\n",
    "(\n",
    "D\n",
    "i\n",
    "∣\n",
    "N\n",
    ")\n",
    "∼\n",
    "D\n",
    "i\n",
    "s\n",
    "c\n",
    "r\n",
    "e\n",
    "t\n",
    "e\n",
    "U\n",
    "n\n",
    "i\n",
    "f\n",
    "o\n",
    "r\n",
    "m\n",
    "(\n",
    "D\n",
    ",\n",
    "m\n",
    "i\n",
    "n\n",
    "=\n",
    "0\n",
    ",\n",
    "m\n",
    "a\n",
    "x\n",
    "=\n",
    "N\n",
    ")  \n",
    "The prior over \n",
    "N\n",
    ", which we know must be at least as high as the highest serial number we observed (call that \n",
    "m\n",
    ") but could be much higher:\n",
    "\n",
    "P\n",
    "(\n",
    "N\n",
    ")\n",
    "∼\n",
    "D\n",
    "i\n",
    "s\n",
    "c\n",
    "r\n",
    "e\n",
    "t\n",
    "e\n",
    "U\n",
    "n\n",
    "i\n",
    "f\n",
    "o\n",
    "r\n",
    "m\n",
    "(\n",
    "N\n",
    ",\n",
    "m\n",
    "i\n",
    "n\n",
    "=\n",
    "m\n",
    ",\n",
    "m\n",
    "a\n",
    "x\n",
    "=\n",
    "s\n",
    "o\n",
    "m\n",
    "e \n",
    "b\n",
    "i\n",
    "g \n",
    "n\n",
    "u\n",
    "m\n",
    "b\n",
    "e\n",
    "r\n",
    ")  \n",
    "The MCMC strategy will be to try a bunch of different values for \n",
    "N\n",
    ", see how likely they are (compared to one another), and assemble the results of the sampling into a distribution over \n",
    "N\n",
    ". The solution implementation with Sampyl was interesting, but the project is still early so I wanted to give it a shot using two other popular MCMC libraries."
   ]
  },
  {
   "cell_type": "markdown",
   "metadata": {},
   "source": [
    "---"
   ]
  },
  {
   "cell_type": "markdown",
   "metadata": {},
   "source": [
    "PG: First repeat his work:"
   ]
  },
  {
   "cell_type": "code",
   "execution_count": 2,
   "metadata": {},
   "outputs": [
    {
     "name": "stderr",
     "output_type": "stream",
     "text": [
      "Multiprocess sampling (4 chains in 4 jobs)\n",
      "Metropolis: [N]\n",
      "Sampling 4 chains: 100%|██████████| 402000/402000 [01:20<00:00, 4994.62draws/s]\n",
      "The number of effective samples is smaller than 10% for some parameters.\n"
     ]
    }
   ],
   "source": [
    "import numpy as np\n",
    "import pymc3 as pm\n",
    "\n",
    "# D: the data\n",
    "y = np.array([10, 256, 202, 97])\n",
    "\n",
    "model = pm.Model()\n",
    "with model:\n",
    "    \n",
    "    # prior - P(N): N ~ uniform(max(y), 10000)\n",
    "    # note: we use a large-ish number for the upper bound\n",
    "    N = pm.DiscreteUniform(\"N\", lower=y.max(), upper=10000)\n",
    "\n",
    "    # likelihood - P(D|N): y ~ uniform(0, N)\n",
    "    y_obs = pm.DiscreteUniform(\"y_obs\", lower=0, upper=N, observed=y)\n",
    "\n",
    "    # choose the sampling method - we have to use Metropolis-Hastings because\n",
    "    # the variables are discrete\n",
    "    step = pm.Metropolis()\n",
    "    \n",
    "    # we'll use four chains, and parallelize to four cores\n",
    "    start = {\"N\": y.max()} # the highest number is a reasonable starting point\n",
    "    trace = pm.sample(100000, step, start, chain=4, njobs=4)"
   ]
  },
  {
   "cell_type": "markdown",
   "metadata": {},
   "source": [
    "PG: I think the warning above is a concern statistically. For further review."
   ]
  },
  {
   "cell_type": "code",
   "execution_count": null,
   "metadata": {},
   "outputs": [],
   "source": []
  },
  {
   "cell_type": "markdown",
   "metadata": {},
   "source": [
    "-----"
   ]
  },
  {
   "cell_type": "markdown",
   "metadata": {},
   "source": [
    "PG: You might run into some Python packaging issues.   \n",
    "(I am using Python3 in Anaconda, on Ubuntu 16.04)  \n",
    "    \n",
    "Conda update conda seems to have solved them for me.   \n",
    "But here are some other resources in case you need them:\n"
   ]
  },
  {
   "cell_type": "markdown",
   "metadata": {},
   "source": [
    "https://github.com/Theano/Theano/issues/6568"
   ]
  },
  {
   "cell_type": "markdown",
   "metadata": {},
   "source": [
    "-----"
   ]
  },
  {
   "cell_type": "code",
   "execution_count": null,
   "metadata": {},
   "outputs": [],
   "source": []
  },
  {
   "cell_type": "code",
   "execution_count": 6,
   "metadata": {},
   "outputs": [
    {
     "data": {
      "text/html": [
       "<div>\n",
       "<style scoped>\n",
       "    .dataframe tbody tr th:only-of-type {\n",
       "        vertical-align: middle;\n",
       "    }\n",
       "\n",
       "    .dataframe tbody tr th {\n",
       "        vertical-align: top;\n",
       "    }\n",
       "\n",
       "    .dataframe thead th {\n",
       "        text-align: right;\n",
       "    }\n",
       "</style>\n",
       "<table border=\"1\" class=\"dataframe\">\n",
       "  <thead>\n",
       "    <tr style=\"text-align: right;\">\n",
       "      <th></th>\n",
       "      <th>mean</th>\n",
       "      <th>sd</th>\n",
       "      <th>mc_error</th>\n",
       "      <th>hpd_2.5</th>\n",
       "      <th>hpd_97.5</th>\n",
       "      <th>n_eff</th>\n",
       "      <th>Rhat</th>\n",
       "    </tr>\n",
       "  </thead>\n",
       "  <tbody>\n",
       "    <tr>\n",
       "      <th>N</th>\n",
       "      <td>381.981255</td>\n",
       "      <td>200.063709</td>\n",
       "      <td>1.49169</td>\n",
       "      <td>256.0</td>\n",
       "      <td>694.0</td>\n",
       "      <td>14835.428864</td>\n",
       "      <td>1.000339</td>\n",
       "    </tr>\n",
       "  </tbody>\n",
       "</table>\n",
       "</div>"
      ],
      "text/plain": [
       "         mean          sd  mc_error  hpd_2.5  hpd_97.5         n_eff      Rhat\n",
       "N  381.981255  200.063709   1.49169    256.0     694.0  14835.428864  1.000339"
      ]
     },
     "execution_count": 6,
     "metadata": {},
     "output_type": "execute_result"
    }
   ],
   "source": [
    "# summarize the trace\n",
    "pm.summary(trace)"
   ]
  },
  {
   "cell_type": "markdown",
   "metadata": {},
   "source": [
    "His output also had:"
   ]
  },
  {
   "cell_type": "raw",
   "metadata": {},
   "source": [
    "  Posterior quantiles:\n",
    "  2.5            25             50             75             97.5\n",
    "  |--------------|==============|==============|--------------|\n",
    "  \n",
    "  258.000        281.000        322.000        406.000        862.000"
   ]
  },
  {
   "cell_type": "markdown",
   "metadata": {},
   "source": [
    "I did not get the same output that he did here: http://isaacslavitt.com/2015/12/19/german-tank-problem-with-pymc-and-pystan/"
   ]
  },
  {
   "cell_type": "markdown",
   "metadata": {},
   "source": [
    "(That might be due to differences in python/Anaconda/PYMC3 between what he used and what I am using)"
   ]
  },
  {
   "cell_type": "markdown",
   "metadata": {},
   "source": [
    "So I tried to find the information this way:"
   ]
  },
  {
   "cell_type": "code",
   "execution_count": 7,
   "metadata": {},
   "outputs": [
    {
     "data": {
      "text/plain": [
       "{8: {'N': {2.5: 258, 25: 282, 50: 323, 75: 403, 97.5: 873}},\n",
       " 9: {'N': {2.5: 258, 25: 280, 50: 323, 75: 406, 97.5: 913}},\n",
       " 10: {'N': {2.5: 258, 25: 281, 50: 323, 75: 408, 97.5: 861}},\n",
       " 11: {'N': {2.5: 257, 25: 280, 50: 321, 75: 403, 97.5: 837}}}"
      ]
     },
     "execution_count": 7,
     "metadata": {},
     "output_type": "execute_result"
    }
   ],
   "source": [
    "pm.quantiles(trace)"
   ]
  },
  {
   "cell_type": "markdown",
   "metadata": {},
   "source": [
    "I guess this is similar; but perhaps I am getting 4 different outputs from the 4 jobs specified."
   ]
  },
  {
   "attachments": {},
   "cell_type": "markdown",
   "metadata": {},
   "source": [
    "My median is 321-323.  \n",
    "(His output might average them.)  \n",
    "But  \n",
    "873  \n",
    "913  \n",
    "816  \n",
    "837  \n",
    "averages to : \n",
    "859.75, not 862\n",
    "\n",
    "(maybe his average is weighted?)"
   ]
  },
  {
   "cell_type": "markdown",
   "metadata": {},
   "source": [
    "##### Plot with a burn in--- throwing away the first 10,000 samples"
   ]
  },
  {
   "cell_type": "markdown",
   "metadata": {},
   "source": [
    "Why do we do a burn in?"
   ]
  },
  {
   "cell_type": "markdown",
   "metadata": {},
   "source": [
    "\n",
    "\"You create the parameter trace plots to make sure that your a priori distribution is well calibrated which is indicated by your parameters having sufficient state changes as the MCMC algorithm runs...\"\n",
    "\n",
    "Source: https://stats.stackexchange.com/questions/120936/why-we-need-trace-plot-for-mcmc-results"
   ]
  },
  {
   "cell_type": "code",
   "execution_count": null,
   "metadata": {},
   "outputs": [],
   "source": []
  },
  {
   "cell_type": "code",
   "execution_count": null,
   "metadata": {},
   "outputs": [],
   "source": []
  },
  {
   "cell_type": "code",
   "execution_count": 15,
   "metadata": {},
   "outputs": [
    {
     "name": "stderr",
     "output_type": "stream",
     "text": [
      "/home/perry/anaconda3/lib/python3.5/site-packages/matplotlib/axes/_base.py:3449: MatplotlibDeprecationWarning: \n",
      "The `ymin` argument was deprecated in Matplotlib 3.0 and will be removed in 3.2. Use `bottom` instead.\n",
      "  alternative='`bottom`', obj_type='argument')\n"
     ]
    },
    {
     "data": {
      "image/png": "[encoded data removed]",
      "text/plain": [
       "<Figure size 864x144 with 2 Axes>"
      ]
     },
     "metadata": {
      "needs_background": "light"
     },
     "output_type": "display_data"
    }
   ],
   "source": [
    "%matplotlib inline\n",
    "from matplotlib import pyplot as plt\n",
    "\n",
    "# plot the trace\n",
    "burn_in = 10000  # throw away the first 10,000 samples\n",
    "pm.traceplot(trace[burn_in:])\n",
    "plt.show()"
   ]
  },
  {
   "cell_type": "markdown",
   "metadata": {},
   "source": [
    "So the mean here was 384, and the median was 322."
   ]
  },
  {
   "cell_type": "code",
   "execution_count": null,
   "metadata": {},
   "outputs": [],
   "source": []
  },
  {
   "cell_type": "markdown",
   "metadata": {},
   "source": [
    "## PG: Now let's try to apply the above advice to Exercise 3.10 Taxicab (tramcar) Problem"
   ]
  },
  {
   "cell_type": "markdown",
   "metadata": {},
   "source": [
    "Exercise 3.10 Taxicab (tramcar) problem\n",
    "Suppose you arrive in a new city and see a taxi numbered 100. How many taxis are there in this city? Let\n",
    "us assume taxis are numbered sequentially as integers starting from 0, up to some unknown upper bound\n",
    "θ. (We number taxis from 0 for simplicity; we can also count from 1 without changing the analysis.) Hence\n",
    "the likelihood function is   \n",
    "p(x) = U(0, θ)  \n",
    ", the uniform distribution. The goal is to estimate θ. We will use\n",
    "the Bayesian analysis from Exercise 3.9.  \n",
    "\n",
    "a. Suppose we see one taxi numbered 100, so D = {100}, m = 100, N = 1. Using an (improper)\n",
    "non-informative prior on θ of the form p(θ) = P a(θ|0, 0) ∝ 1/θ, what is the posterior p(θ|D)?  \n",
    "b. Compute the posterior mean, mode and median number of taxis in the city, if such quantities exist.  \n",
    "c. Rather than trying to compute a point estimate of the number of taxis, we can compute the predictive\n",
    "density over the next taxicab number using  \n",
    "p(D\n",
    "|D, α) = \u0005\n",
    "p(D\n",
    "|θ)p(θ|D, α)dθ = p(D\n",
    "|β) (3.96)  \n",
    "where α = (b, K)   \n",
    "are the hyper-parameters,   \n",
    "β = (c, N + K) \n",
    "are the updated hyper-parameters. \n",
    "Now\n",
    "consider the case   \n",
    "D = {m}, and D = {x}.   \n",
    "Using Equation 3.95, write down an expression for  \n",
    "p(x|D, α) (3.97)  \n",
    "\n",
    "As above, use a non-informative prior b = K = 0.  \n",
    "\n",
    "d. Use the predictive density formula to compute the probability that the next taxi you will see (say,\n",
    "the next day) has number 100, 50 or 150, i.e., compute p(x = 100|D, α), p(x = 50|D, α), p(x =\n",
    "150|D, α).  \n",
    "\n",
    "e. Briefly describe (1-2 sentences) some ways we might make the model more accurate at prediction."
   ]
  },
  {
   "cell_type": "markdown",
   "metadata": {},
   "source": [
    "##### a. what is the posterior p(θ|D)? "
   ]
  },
  {
   "cell_type": "markdown",
   "metadata": {},
   "source": [
    "We are just seeing the number 100."
   ]
  },
  {
   "cell_type": "markdown",
   "metadata": {},
   "source": [
    "##### b. Compute the posterior mean, mode and median number of taxis in the city, if such quantities exist."
   ]
  },
  {
   "cell_type": "code",
   "execution_count": 18,
   "metadata": {},
   "outputs": [
    {
     "name": "stderr",
     "output_type": "stream",
     "text": [
      "Multiprocess sampling (4 chains in 4 jobs)\n",
      "Metropolis: [N]\n",
      "Sampling 4 chains: 100%|██████████| 402000/402000 [01:25<00:00, 4701.10draws/s]\n",
      "The number of effective samples is smaller than 10% for some parameters.\n"
     ]
    }
   ],
   "source": [
    "# D: the data\n",
    "y = np.array([100])\n",
    "\n",
    "model = pm.Model()\n",
    "with model:\n",
    "    \n",
    "    # prior - P(N): N ~ uniform(max(y), 10000)\n",
    "    # note: we use a large-ish number for the upper bound\n",
    "    N = pm.DiscreteUniform(\"N\", lower=y.max(), upper=10000)\n",
    "\n",
    "    # likelihood - P(D|N): y ~ uniform(0, N)\n",
    "    y_obs = pm.DiscreteUniform(\"y_obs\", lower=0, upper=N, observed=y)\n",
    "\n",
    "    # choose the sampling method - we have to use Metropolis-Hastings because\n",
    "    # the variables are discrete\n",
    "    step = pm.Metropolis()\n",
    "    \n",
    "    # we'll use four chains, and parallelize to four cores\n",
    "    start = {\"N\": y.max()} # the highest number is a reasonable starting point\n",
    "    trace = pm.sample(100000, step, start, chain=4, njobs=4)"
   ]
  },
  {
   "cell_type": "markdown",
   "metadata": {},
   "source": [
    "There is some information on chaings versus job here:  \n",
    "fonnesbeck (PYMC orginator)  \n",
    "PyMC_devs  \n",
    "Nov '17  \n",
    "I’ve submitted a PR to improve the docstring for chains. It will select the higher of njobs or 2. Most of the time you will want to sample in parallel to accomodate Gelman-Rubin diagnostic calculation. So, when you set njobs to 1 there will still be 2 chains sampled, it will just occur in serial (unless you set chains to 1 as well).  \n",
    "\n",
    "Note, however, when you ask for 1000 samples (by setting iterations=1000, you will get 1000 samples, it will just be broken out over however many chains are specified.  \n",
    "\n",
    "https://discourse.pymc.io/t/specifying-the-number-of-chains-chains-vs-njobs/595/7"
   ]
  },
  {
   "cell_type": "code",
   "execution_count": 19,
   "metadata": {},
   "outputs": [
    {
     "data": {
      "text/html": [
       "<div>\n",
       "<style scoped>\n",
       "    .dataframe tbody tr th:only-of-type {\n",
       "        vertical-align: middle;\n",
       "    }\n",
       "\n",
       "    .dataframe tbody tr th {\n",
       "        vertical-align: top;\n",
       "    }\n",
       "\n",
       "    .dataframe thead th {\n",
       "        text-align: right;\n",
       "    }\n",
       "</style>\n",
       "<table border=\"1\" class=\"dataframe\">\n",
       "  <thead>\n",
       "    <tr style=\"text-align: right;\">\n",
       "      <th></th>\n",
       "      <th>mean</th>\n",
       "      <th>sd</th>\n",
       "      <th>mc_error</th>\n",
       "      <th>hpd_2.5</th>\n",
       "      <th>hpd_97.5</th>\n",
       "      <th>n_eff</th>\n",
       "      <th>Rhat</th>\n",
       "    </tr>\n",
       "  </thead>\n",
       "  <tbody>\n",
       "    <tr>\n",
       "      <th>N</th>\n",
       "      <td>2168.725998</td>\n",
       "      <td>2509.401932</td>\n",
       "      <td>26.526212</td>\n",
       "      <td>100.0</td>\n",
       "      <td>7983.0</td>\n",
       "      <td>8168.582267</td>\n",
       "      <td>1.000179</td>\n",
       "    </tr>\n",
       "  </tbody>\n",
       "</table>\n",
       "</div>"
      ],
      "text/plain": [
       "          mean           sd   mc_error  hpd_2.5  hpd_97.5        n_eff  \\\n",
       "N  2168.725998  2509.401932  26.526212    100.0    7983.0  8168.582267   \n",
       "\n",
       "       Rhat  \n",
       "N  1.000179  "
      ]
     },
     "execution_count": 19,
     "metadata": {},
     "output_type": "execute_result"
    }
   ],
   "source": [
    "# summarize the trace\n",
    "pm.summary(trace)"
   ]
  },
  {
   "cell_type": "markdown",
   "metadata": {},
   "source": [
    "The mean is 2,191 with an upper bound of 10,000"
   ]
  },
  {
   "cell_type": "markdown",
   "metadata": {},
   "source": [
    "With this largare upper bound of 10,000, versus the 1,000 used by Allen Downey, we have a much higher estimated mean."
   ]
  },
  {
   "cell_type": "code",
   "execution_count": 20,
   "metadata": {},
   "outputs": [
    {
     "data": {
      "text/plain": [
       "{8: {'N': {2.5: 114, 25: 330, 50: 1054, 75: 3258, 97.5: 8988}},\n",
       " 9: {'N': {2.5: 113, 25: 323, 50: 1002, 75: 3243, 97.5: 8873}},\n",
       " 10: {'N': {2.5: 113, 25: 311, 50: 962, 75: 3024, 97.5: 8928}},\n",
       " 11: {'N': {2.5: 111, 25: 328, 50: 1030, 75: 3265, 97.5: 8963}}}"
      ]
     },
     "execution_count": 20,
     "metadata": {},
     "output_type": "execute_result"
    }
   ],
   "source": [
    "pm.quantiles(trace)"
   ]
  },
  {
   "cell_type": "markdown",
   "metadata": {},
   "source": [
    "Median ranges from 962 to 1054"
   ]
  },
  {
   "cell_type": "markdown",
   "metadata": {},
   "source": [
    "The mode should be 100, since there is only one observation."
   ]
  },
  {
   "cell_type": "markdown",
   "metadata": {},
   "source": [
    "---"
   ]
  },
  {
   "cell_type": "markdown",
   "metadata": {},
   "source": [
    "##### Let's try it with 1000, as Allen Downey did:"
   ]
  },
  {
   "cell_type": "code",
   "execution_count": 21,
   "metadata": {},
   "outputs": [
    {
     "name": "stderr",
     "output_type": "stream",
     "text": [
      "Multiprocess sampling (4 chains in 4 jobs)\n",
      "Metropolis: [N]\n",
      "Sampling 4 chains: 100%|██████████| 402000/402000 [01:21<00:00, 4910.84draws/s]\n",
      "The number of effective samples is smaller than 10% for some parameters.\n"
     ]
    }
   ],
   "source": [
    "# D: the data\n",
    "y = np.array([100])\n",
    "\n",
    "model = pm.Model()\n",
    "with model:\n",
    "    \n",
    "    # prior - P(N): N ~ uniform(max(y), 1000)\n",
    "    # note: we use a large-ish number for the upper bound\n",
    "    N = pm.DiscreteUniform(\"N\", lower=y.max(), upper=1000)\n",
    "\n",
    "    # likelihood - P(D|N): y ~ uniform(0, N)\n",
    "    y_obs = pm.DiscreteUniform(\"y_obs\", lower=0, upper=N, observed=y)\n",
    "\n",
    "    # choose the sampling method - we have to use Metropolis-Hastings because\n",
    "    # the variables are discrete\n",
    "    step = pm.Metropolis()\n",
    "    \n",
    "    # we'll use four chains, and parallelize to four cores\n",
    "    start = {\"N\": y.max()} # the highest number is a reasonable starting point\n",
    "    trace = pm.sample(100000, step, start, chain=4, njobs=4)"
   ]
  },
  {
   "cell_type": "markdown",
   "metadata": {},
   "source": [
    "PG: Im not sure if I should be changing these specifications with only 1 sample.  \n",
    "        trace = pm.sample(100000, step, start, chain=4, njobs=4)"
   ]
  },
  {
   "cell_type": "markdown",
   "metadata": {},
   "source": [
    "In particular, can I reduce this from 100,000 samples to make it run faster and still get a good result?"
   ]
  },
  {
   "cell_type": "markdown",
   "metadata": {},
   "source": [
    "Need to do further reading on PYMC3, etc."
   ]
  },
  {
   "cell_type": "code",
   "execution_count": 22,
   "metadata": {},
   "outputs": [
    {
     "data": {
      "text/html": [
       "<div>\n",
       "<style scoped>\n",
       "    .dataframe tbody tr th:only-of-type {\n",
       "        vertical-align: middle;\n",
       "    }\n",
       "\n",
       "    .dataframe tbody tr th {\n",
       "        vertical-align: top;\n",
       "    }\n",
       "\n",
       "    .dataframe thead th {\n",
       "        text-align: right;\n",
       "    }\n",
       "</style>\n",
       "<table border=\"1\" class=\"dataframe\">\n",
       "  <thead>\n",
       "    <tr style=\"text-align: right;\">\n",
       "      <th></th>\n",
       "      <th>mean</th>\n",
       "      <th>sd</th>\n",
       "      <th>mc_error</th>\n",
       "      <th>hpd_2.5</th>\n",
       "      <th>hpd_97.5</th>\n",
       "      <th>n_eff</th>\n",
       "      <th>Rhat</th>\n",
       "    </tr>\n",
       "  </thead>\n",
       "  <tbody>\n",
       "    <tr>\n",
       "      <th>N</th>\n",
       "      <td>389.129127</td>\n",
       "      <td>249.248689</td>\n",
       "      <td>1.400003</td>\n",
       "      <td>100.0</td>\n",
       "      <td>891.0</td>\n",
       "      <td>34057.917877</td>\n",
       "      <td>1.00002</td>\n",
       "    </tr>\n",
       "  </tbody>\n",
       "</table>\n",
       "</div>"
      ],
      "text/plain": [
       "         mean          sd  mc_error  hpd_2.5  hpd_97.5         n_eff     Rhat\n",
       "N  389.129127  249.248689  1.400003    100.0     891.0  34057.917877  1.00002"
      ]
     },
     "execution_count": 22,
     "metadata": {},
     "output_type": "execute_result"
    }
   ],
   "source": [
    "# summarize the trace\n",
    "pm.summary(trace)"
   ]
  },
  {
   "cell_type": "markdown",
   "metadata": {},
   "source": [
    "The mean is 389, which is in the same ballpark; but higher than the 333, using Allen Downey's code."
   ]
  },
  {
   "cell_type": "code",
   "execution_count": 23,
   "metadata": {},
   "outputs": [
    {
     "data": {
      "text/plain": [
       "{8: {'N': {2.5: 105, 25: 177, 50: 311, 75: 554, 97.5: 941}},\n",
       " 9: {'N': {2.5: 106, 25: 177, 50: 315, 75: 562, 97.5: 946}},\n",
       " 10: {'N': {2.5: 106, 25: 176, 50: 315, 75: 564, 97.5: 944}},\n",
       " 11: {'N': {2.5: 105, 25: 178, 50: 314, 75: 559, 97.5: 944}}}"
      ]
     },
     "execution_count": 23,
     "metadata": {},
     "output_type": "execute_result"
    }
   ],
   "source": [
    "pm.quantiles(trace)"
   ]
  },
  {
   "cell_type": "markdown",
   "metadata": {},
   "source": [
    "The median is 311 to 315"
   ]
  },
  {
   "cell_type": "markdown",
   "metadata": {},
   "source": [
    "Again, the mode should 100, for the one sample."
   ]
  },
  {
   "cell_type": "code",
   "execution_count": null,
   "metadata": {},
   "outputs": [],
   "source": []
  },
  {
   "cell_type": "markdown",
   "metadata": {},
   "source": [
    "##### c. Rather than trying to compute a point estimate of the number of taxis, we can compute the predictive density over   the next taxicab number using\n",
    "p(D |D, α) = \u0005 p(D |θ)p(θ|D, α)dθ = p(D |β) (3.96)  \n",
    "where α = (b, K)\n",
    "are the hyper-parameters,  \n",
    "β = (c, N + K) are the updated hyper-parameters.     \n",
    "\n",
    "Now consider the case  \n",
    "D = {m}, and D = {x}.\n",
    "Using Equation 3.95, write down an expression for  \n",
    "p(x|D, α) (3.97)\n",
    "\n",
    "As above, use a non-informative prior b = K = 0."
   ]
  },
  {
   "cell_type": "markdown",
   "metadata": {},
   "source": [
    "Start with this..."
   ]
  },
  {
   "cell_type": "code",
   "execution_count": 24,
   "metadata": {},
   "outputs": [
    {
     "data": {
      "image/png": "[encoded data removed]",
      "text/plain": [
       "<Figure size 864x144 with 2 Axes>"
      ]
     },
     "metadata": {
      "needs_background": "light"
     },
     "output_type": "display_data"
    }
   ],
   "source": [
    "# plot the trace\n",
    "burn_in = 10000  # throw away the first 10,000 samples\n",
    "pm.traceplot(trace[burn_in:])\n",
    "plt.show()"
   ]
  },
  {
   "cell_type": "markdown",
   "metadata": {},
   "source": [
    "Then...?"
   ]
  },
  {
   "cell_type": "code",
   "execution_count": null,
   "metadata": {},
   "outputs": [],
   "source": []
  },
  {
   "cell_type": "markdown",
   "metadata": {},
   "source": [
    "##### d. Use the predictive density formula to compute the probability that the next taxi you will see (say, the next day) has number 100, 50 or 150, i.e., compute\n",
    "p(x = 100|D, α), p(x = 50|D, α), p(x = 150|D, α)."
   ]
  },
  {
   "cell_type": "code",
   "execution_count": null,
   "metadata": {},
   "outputs": [],
   "source": []
  },
  {
   "cell_type": "markdown",
   "metadata": {},
   "source": [
    "##### e. Briefly describe (1-2 sentences) some ways we might make the model more accurate at prediction."
   ]
  },
  {
   "cell_type": "code",
   "execution_count": null,
   "metadata": {},
   "outputs": [],
   "source": []
  },
  {
   "cell_type": "code",
   "execution_count": null,
   "metadata": {},
   "outputs": [],
   "source": []
  }
 ],
 "metadata": {
  "kernelspec": {
   "display_name": "Python 3",
   "language": "python",
   "name": "python3"
  },
  "language_info": {
   "codemirror_mode": {
    "name": "ipython",
    "version": 3
   },
   "file_extension": ".py",
   "mimetype": "text/x-python",
   "name": "python",
   "nbconvert_exporter": "python",
   "pygments_lexer": "ipython3",
   "version": "3.5.5"
  }
 },
 "nbformat": 4,
 "nbformat_minor": 2
}
